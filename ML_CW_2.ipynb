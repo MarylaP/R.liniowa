{
 "cells": [
  {
   "cell_type": "markdown",
   "id": "79e0bfa0",
   "metadata": {},
   "source": [
    "Zadanie 1"
   ]
  },
  {
   "cell_type": "code",
   "execution_count": 3,
   "id": "a9e7e68e",
   "metadata": {},
   "outputs": [],
   "source": [
    "import numpy as np\n",
    "import matplotlib.pyplot as plt"
   ]
  },
  {
   "cell_type": "code",
   "execution_count": 118,
   "id": "173deb72",
   "metadata": {},
   "outputs": [],
   "source": [
    "class LinearModel2v:\n",
    "    def __init__(self, eta = 0.001, diff = 0.001, maxiter = 10000, reg = 'L1' , *w):\n",
    "        self.eta = eta\n",
    "        self.diff = diff\n",
    "        self.w = []\n",
    "        self.reg = reg\n",
    "        self.maxiter = maxiter\n",
    "        \n",
    "    def loss_function(self, X, t):\n",
    "        N = len(X)\n",
    "        C = 0\n",
    "        for i in range(N):\n",
    "            for w in self.w:\n",
    "                if reg =='LOSS':   \n",
    "                    C += (sum(X[i][i]*w[1:])+w[0]-t[i])**2\n",
    "                elif reg == 'L1':\n",
    "                    C += (sum(X[i][i]*w[1:])+w[0]-t[i])** + sum(abs(self.w))\n",
    "                else :\n",
    "                    C += (sum(X[i][i]*w[1:])+w[0]-t[i])**2 + sum((self.w)**2)\n",
    "            return C/(2*N)\n",
    "   \n",
    "    def update_weights(self, X, t):\n",
    "        N = len(X)\n",
    "        C = []\n",
    "        slownik = {}\n",
    "        for i in range(N):\n",
    "            for w in self.w:\n",
    "                y_pred = sum(X[i][i]*w[1:])+w[0]\n",
    "                C.append(2*X[i][i]*(y_pred-t[i]))\n",
    "                self.w = self.w - self.eta*dC/(2*N)        \n",
    "        slownik.update({C[i]: self.w[i]})\n",
    "            \n",
    "                \n",
    "   \n",
    "    "
   ]
  },
  {
   "cell_type": "markdown",
   "id": "b5ce0860",
   "metadata": {},
   "source": [
    "Zadanie2"
   ]
  },
  {
   "cell_type": "markdown",
   "id": "c0be44af",
   "metadata": {},
   "source": [
    "BRAK"
   ]
  },
  {
   "cell_type": "code",
   "execution_count": 119,
   "id": "28072f3d",
   "metadata": {
    "scrolled": false
   },
   "outputs": [
    {
     "data": {
      "text/plain": [
       "0.0"
      ]
     },
     "execution_count": 119,
     "metadata": {},
     "output_type": "execute_result"
    }
   ],
   "source": [
    "X = np.array([[1,4],[5,6],[2,2],[6,7],[9,-4],[-2,-3],[-5,1]])\n",
    "y = np.dot(X, [3, -4])+5  #y=3x1-4x2+5\n",
    "model = LinearModel2v()\n",
    "\n",
    "model.loss_function(X, y)"
   ]
  },
  {
   "cell_type": "markdown",
   "id": "7d6b326e",
   "metadata": {},
   "source": [
    "Zadanie 3"
   ]
  },
  {
   "cell_type": "markdown",
   "id": "bb767557",
   "metadata": {},
   "source": [
    "p1 = 1/1+e^(-(3*(-0,39683)+3*(-0,82497)+0,119326)) = 0,028029\n",
    "\n",
    "p2 = 1-p1 = 0,971971"
   ]
  },
  {
   "cell_type": "markdown",
   "id": "cf2a3b84",
   "metadata": {},
   "source": [
    "Zadanie 4"
   ]
  },
  {
   "cell_type": "markdown",
   "id": "71a95601",
   "metadata": {},
   "source": [
    "p1 = e^(([row] x [coef1] + intercept1)) / e^(([row] x [coef1] + intercept1)) + e^(([row] x [coef2] + intercept2)) + e^(([row] x [coef3] + intercept3))"
   ]
  },
  {
   "cell_type": "markdown",
   "id": "3f5614a1",
   "metadata": {},
   "source": [
    "Tak samo tylko z odpowiednimi licznikami liczę dla p2 i p3."
   ]
  },
  {
   "cell_type": "markdown",
   "id": "6d7c23e3",
   "metadata": {},
   "source": [
    "Zadanie5 "
   ]
  },
  {
   "cell_type": "markdown",
   "id": "18cc740e",
   "metadata": {},
   "source": [
    "Taki wykres przedstawia co stanie się z tymi danymi podczas overfittingu. Model statystyczny jest overfittowany, gdy model nie przewiduje prawidłow na danych testowych. Kiedy model jest szkolony ze zbyt dużą ilością danych, zaczyna uczyć się na podstawie szumu i niedokładnych wpisów danych w podanym zestawie danych. Następnie model nie rozdziela danych poprawnie, przez zbyt dużą ilość szczegółów i szumów"
   ]
  }
 ],
 "metadata": {
  "kernelspec": {
   "display_name": "Python 3 (ipykernel)",
   "language": "python",
   "name": "python3"
  },
  "language_info": {
   "codemirror_mode": {
    "name": "ipython",
    "version": 3
   },
   "file_extension": ".py",
   "mimetype": "text/x-python",
   "name": "python",
   "nbconvert_exporter": "python",
   "pygments_lexer": "ipython3",
   "version": "3.9.12"
  }
 },
 "nbformat": 4,
 "nbformat_minor": 5
}
